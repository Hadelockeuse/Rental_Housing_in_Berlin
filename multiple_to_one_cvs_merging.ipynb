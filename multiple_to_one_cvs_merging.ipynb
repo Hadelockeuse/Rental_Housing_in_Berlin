{
 "cells": [
  {
   "cell_type": "markdown",
   "id": "dc6f938d",
   "metadata": {},
   "source": [
    "# Import packages"
   ]
  },
  {
   "cell_type": "code",
   "execution_count": null,
   "id": "a5620280",
   "metadata": {},
   "outputs": [],
   "source": [
    "import pandas as pd\n",
    "import glob\n",
    "import os"
   ]
  },
  {
   "cell_type": "markdown",
   "id": "4a88cc98",
   "metadata": {},
   "source": [
    "# Collect and merge all csv files in a given folder"
   ]
  },
  {
   "cell_type": "code",
   "execution_count": 1,
   "id": "d6e9eee6-3406-43ff-84bf-3d4f621a9ad6",
   "metadata": {},
   "outputs": [
    {
     "data": {
      "text/plain": [
       "(3966, 38)"
      ]
     },
     "execution_count": 1,
     "metadata": {},
     "output_type": "execute_result"
    }
   ],
   "source": [
    "# Folder path\n",
    "folder_path = r\"C:\\Users\\MonAcer\\Documents\\Pro_Data\"\n",
    "\n",
    "# Get a list of all CSV files in the folder\n",
    "csv_files = glob.glob(os.path.join(folder_path, \"*.csv\"))\n",
    "\n",
    "# Read and append all CSV files to df\n",
    "df_list = [pd.read_csv(file, delimiter=\",\") for file in csv_files]\n",
    "df = pd.concat(df_list, ignore_index=True)  # Append all data\n",
    "\n",
    "df.shape"
   ]
  },
  {
   "cell_type": "markdown",
   "id": "e480971c",
   "metadata": {},
   "source": [
    "# Save the output file"
   ]
  },
  {
   "cell_type": "code",
   "execution_count": 2,
   "id": "dcf1f4af-f909-4796-908e-d2b52a589455",
   "metadata": {},
   "outputs": [],
   "source": [
    "output_path = r\"C:\\Users\\MonAcer\\Documents\\Pro_Data\\merged_listings.csv\"  # Change filename as needed\n",
    "df.to_csv(output_path, index=False)  # Save without the index column"
   ]
  },
  {
   "cell_type": "code",
   "execution_count": null,
   "id": "7025cc07-b9fb-432d-aec0-9ccadcb79487",
   "metadata": {},
   "outputs": [],
   "source": []
  }
 ],
 "metadata": {
  "kernelspec": {
   "display_name": "Python 3 (ipykernel)",
   "language": "python",
   "name": "python3"
  },
  "language_info": {
   "codemirror_mode": {
    "name": "ipython",
    "version": 3
   },
   "file_extension": ".py",
   "mimetype": "text/x-python",
   "name": "python",
   "nbconvert_exporter": "python",
   "pygments_lexer": "ipython3",
   "version": "3.9.17"
  },
  "varInspector": {
   "cols": {
    "lenName": 16,
    "lenType": 16,
    "lenVar": 40
   },
   "kernels_config": {
    "python": {
     "delete_cmd_postfix": "",
     "delete_cmd_prefix": "del ",
     "library": "var_list.py",
     "varRefreshCmd": "print(var_dic_list())"
    },
    "r": {
     "delete_cmd_postfix": ") ",
     "delete_cmd_prefix": "rm(",
     "library": "var_list.r",
     "varRefreshCmd": "cat(var_dic_list()) "
    }
   },
   "types_to_exclude": [
    "module",
    "function",
    "builtin_function_or_method",
    "instance",
    "_Feature"
   ],
   "window_display": false
  }
 },
 "nbformat": 4,
 "nbformat_minor": 5
}
